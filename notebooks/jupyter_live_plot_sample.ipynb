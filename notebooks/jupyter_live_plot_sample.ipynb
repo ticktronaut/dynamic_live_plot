{
 "cells": [
  {
   "cell_type": "markdown",
   "metadata": {},
   "source": [
    "# JupyterLIvePlot basic usage"
   ]
  },
  {
   "cell_type": "markdown",
   "metadata": {},
   "source": [
    "## background\n",
    "\n",
    "It is not always known at runtime, which data pops up in IOT publish subscriber systems. When it comes plotting these sensor values in a live chart, a flexible solution, which is capable of dynamically add and delete line glyphs is necessary for this task. The class **JupyterLivePlot** is a simple way to plot emerging data, just by passing a dictionary containing the data desired to plot. This notebook shows the usage of this class."
   ]
  },
  {
   "cell_type": "markdown",
   "metadata": {},
   "source": [
    "## basic usage\n",
    "\n",
    "First include the necessary libaries and create an object of a plot. An empty plot will be rendered, yet. This cell is the place where all data will afterwards."
   ]
  },
  {
   "cell_type": "code",
   "execution_count": 5,
   "metadata": {},
   "outputs": [
    {
     "name": "stdout",
     "output_type": "stream",
     "text": [
      "Create plot\n",
      "- width: 800 px\n",
      "- height: 410 px\n"
     ]
    },
    {
     "data": {
      "text/html": [
       "\n",
       "\n",
       "\n",
       "\n",
       "\n",
       "\n",
       "  <div class=\"bk-root\" id=\"453a9fd0-a5ca-4c3e-a191-41773bd161bf\" data-root-id=\"1281\"></div>\n"
      ]
     },
     "metadata": {},
     "output_type": "display_data"
    },
    {
     "data": {
      "application/javascript": [
       "(function(root) {\n",
       "  function embed_document(root) {\n",
       "    \n",
       "  var docs_json = {\"2c6454cb-0050-4e1f-95c3-e82484e6c09a\":{\"roots\":{\"references\":[{\"attributes\":{\"below\":[{\"id\":\"1290\",\"type\":\"LinearAxis\"}],\"center\":[{\"id\":\"1294\",\"type\":\"Grid\"},{\"id\":\"1299\",\"type\":\"Grid\"}],\"left\":[{\"id\":\"1295\",\"type\":\"LinearAxis\"}],\"plot_height\":410,\"plot_width\":800,\"renderers\":[{\"id\":\"1316\",\"type\":\"GlyphRenderer\"}],\"title\":{\"id\":\"1327\",\"type\":\"Title\"},\"toolbar\":{\"id\":\"1306\",\"type\":\"Toolbar\"},\"x_range\":{\"id\":\"1282\",\"type\":\"DataRange1d\"},\"x_scale\":{\"id\":\"1286\",\"type\":\"LinearScale\"},\"y_range\":{\"id\":\"1284\",\"type\":\"DataRange1d\"},\"y_scale\":{\"id\":\"1288\",\"type\":\"LinearScale\"}},\"id\":\"1281\",\"subtype\":\"Figure\",\"type\":\"Plot\"},{\"attributes\":{},\"id\":\"1300\",\"type\":\"PanTool\"},{\"attributes\":{},\"id\":\"1303\",\"type\":\"SaveTool\"},{\"attributes\":{},\"id\":\"1291\",\"type\":\"BasicTicker\"},{\"attributes\":{\"line_alpha\":0.1,\"line_color\":\"#1f77b4\",\"x\":{\"field\":\"x\"},\"y\":{\"field\":\"dummy\"}},\"id\":\"1315\",\"type\":\"Line\"},{\"attributes\":{},\"id\":\"1304\",\"type\":\"ResetTool\"},{\"attributes\":{},\"id\":\"1305\",\"type\":\"HelpTool\"},{\"attributes\":{\"ticker\":{\"id\":\"1291\",\"type\":\"BasicTicker\"}},\"id\":\"1294\",\"type\":\"Grid\"},{\"attributes\":{\"formatter\":{\"id\":\"1331\",\"type\":\"BasicTickFormatter\"},\"ticker\":{\"id\":\"1296\",\"type\":\"BasicTicker\"}},\"id\":\"1295\",\"type\":\"LinearAxis\"},{\"attributes\":{\"active_drag\":\"auto\",\"active_inspect\":\"auto\",\"active_multi\":null,\"active_scroll\":\"auto\",\"active_tap\":\"auto\",\"tools\":[{\"id\":\"1300\",\"type\":\"PanTool\"},{\"id\":\"1301\",\"type\":\"WheelZoomTool\"},{\"id\":\"1302\",\"type\":\"BoxZoomTool\"},{\"id\":\"1303\",\"type\":\"SaveTool\"},{\"id\":\"1304\",\"type\":\"ResetTool\"},{\"id\":\"1305\",\"type\":\"HelpTool\"}]},\"id\":\"1306\",\"type\":\"Toolbar\"},{\"attributes\":{\"text\":\"\"},\"id\":\"1327\",\"type\":\"Title\"},{\"attributes\":{\"data_source\":{\"id\":\"1280\",\"type\":\"ColumnDataSource\"},\"glyph\":{\"id\":\"1314\",\"type\":\"Line\"},\"hover_glyph\":null,\"muted_glyph\":null,\"name\":\"dummy_glyph\",\"nonselection_glyph\":{\"id\":\"1315\",\"type\":\"Line\"},\"selection_glyph\":null,\"view\":{\"id\":\"1317\",\"type\":\"CDSView\"}},\"id\":\"1316\",\"type\":\"GlyphRenderer\"},{\"attributes\":{\"source\":{\"id\":\"1280\",\"type\":\"ColumnDataSource\"}},\"id\":\"1317\",\"type\":\"CDSView\"},{\"attributes\":{},\"id\":\"1286\",\"type\":\"LinearScale\"},{\"attributes\":{},\"id\":\"1329\",\"type\":\"BasicTickFormatter\"},{\"attributes\":{\"dimension\":1,\"ticker\":{\"id\":\"1296\",\"type\":\"BasicTicker\"}},\"id\":\"1299\",\"type\":\"Grid\"},{\"attributes\":{},\"id\":\"1331\",\"type\":\"BasicTickFormatter\"},{\"attributes\":{\"callback\":null},\"id\":\"1284\",\"type\":\"DataRange1d\"},{\"attributes\":{},\"id\":\"1333\",\"type\":\"UnionRenderers\"},{\"attributes\":{\"line_color\":\"#1f77b4\",\"x\":{\"field\":\"x\"},\"y\":{\"field\":\"dummy\"}},\"id\":\"1314\",\"type\":\"Line\"},{\"attributes\":{},\"id\":\"1334\",\"type\":\"Selection\"},{\"attributes\":{\"bottom_units\":\"screen\",\"fill_alpha\":{\"value\":0.5},\"fill_color\":{\"value\":\"lightgrey\"},\"left_units\":\"screen\",\"level\":\"overlay\",\"line_alpha\":{\"value\":1.0},\"line_color\":{\"value\":\"black\"},\"line_dash\":[4,4],\"line_width\":{\"value\":2},\"render_mode\":\"css\",\"right_units\":\"screen\",\"top_units\":\"screen\"},\"id\":\"1335\",\"type\":\"BoxAnnotation\"},{\"attributes\":{},\"id\":\"1296\",\"type\":\"BasicTicker\"},{\"attributes\":{\"callback\":null,\"data\":{\"dummy\":{\"__ndarray__\":\"AAAAAAAAAAA=\",\"dtype\":\"float64\",\"shape\":[1]},\"x\":{\"__ndarray__\":\"AAAAAAAAAAA=\",\"dtype\":\"float64\",\"shape\":[1]}},\"selected\":{\"id\":\"1334\",\"type\":\"Selection\"},\"selection_policy\":{\"id\":\"1333\",\"type\":\"UnionRenderers\"}},\"id\":\"1280\",\"type\":\"ColumnDataSource\"},{\"attributes\":{\"overlay\":{\"id\":\"1335\",\"type\":\"BoxAnnotation\"}},\"id\":\"1302\",\"type\":\"BoxZoomTool\"},{\"attributes\":{},\"id\":\"1301\",\"type\":\"WheelZoomTool\"},{\"attributes\":{},\"id\":\"1288\",\"type\":\"LinearScale\"},{\"attributes\":{\"formatter\":{\"id\":\"1329\",\"type\":\"BasicTickFormatter\"},\"ticker\":{\"id\":\"1291\",\"type\":\"BasicTicker\"}},\"id\":\"1290\",\"type\":\"LinearAxis\"},{\"attributes\":{\"callback\":null},\"id\":\"1282\",\"type\":\"DataRange1d\"}],\"root_ids\":[\"1281\"]},\"title\":\"Bokeh Application\",\"version\":\"1.2.0\"}};\n",
       "  var render_items = [{\"docid\":\"2c6454cb-0050-4e1f-95c3-e82484e6c09a\",\"notebook_comms_target\":\"1336\",\"roots\":{\"1281\":\"453a9fd0-a5ca-4c3e-a191-41773bd161bf\"}}];\n",
       "  root.Bokeh.embed.embed_items_notebook(docs_json, render_items);\n",
       "\n",
       "  }\n",
       "  if (root.Bokeh !== undefined) {\n",
       "    embed_document(root);\n",
       "  } else {\n",
       "    var attempts = 0;\n",
       "    var timer = setInterval(function(root) {\n",
       "      if (root.Bokeh !== undefined) {\n",
       "        embed_document(root);\n",
       "        clearInterval(timer);\n",
       "      }\n",
       "      attempts++;\n",
       "      if (attempts > 100) {\n",
       "        console.log(\"Bokeh: ERROR: Unable to run BokehJS code because BokehJS library is missing\");\n",
       "        clearInterval(timer);\n",
       "      }\n",
       "    }, 10, root)\n",
       "  }\n",
       "})(window);"
      ],
      "application/vnd.bokehjs_exec.v0+json": ""
     },
     "metadata": {
      "application/vnd.bokehjs_exec.v0+json": {
       "id": "1281"
      }
     },
     "output_type": "display_data"
    },
    {
     "name": "stdout",
     "output_type": "stream",
     "text": [
      "del line dummy\n",
      "dummy_glyph\n"
     ]
    }
   ],
   "source": [
    "import dynamic_live_plot.jupyter_live_plot as jlp\n",
    "\n",
    "my_plot = jlp.JupyterLivePlot(plot_width=800, plot_height=410)"
   ]
  },
  {
   "cell_type": "markdown",
   "metadata": {},
   "source": [
    "Member **width_d** is the width of the plot, **width_drop** is the number of samples, after which empty plots are deleted."
   ]
  },
  {
   "cell_type": "code",
   "execution_count": 6,
   "metadata": {},
   "outputs": [],
   "source": [
    "my_plot.width_d = 500\n",
    "my_plot.width_drop = 100"
   ]
  },
  {
   "cell_type": "markdown",
   "metadata": {},
   "source": [
    "To update the plot, data in the form of a dictionary is necessary. Every key in this dictionary corresponds to an individual line plot. The y-values itself are provided by numpy arrays of at least one element. Note that all of these arrays must have the same width. If a line plot is supposed to show empty data, provide np.nan.\n",
    "\n",
    "To provide data for test purposes, the class **DataFactory** is provided in this scope. The argument *n* in the constructor is the number of the line plots desired to be created. Five plots is the maximum number of plots, that can be created. It provides dictionaries containing random functions. To provide corresponding values for a dedicated x value is the purpose of the class method **produce_data**."
   ]
  },
  {
   "cell_type": "code",
   "execution_count": 7,
   "metadata": {},
   "outputs": [
    {
     "name": "stdout",
     "output_type": "stream",
     "text": [
      "Shuffle all lists, this way iterating over\n",
      "them has the same result as random choice.\n",
      "{'acceleration': array([3.24358285]), 'magnetic_field': array([-0.37651009]), 'pressure': array([2.37104185]), 'humidity': array([0.04098719])}\n"
     ]
    }
   ],
   "source": [
    "import dynamic_live_plot.data_factory as df\n",
    "data_generator=df.DataFactory(n=4)\n",
    "new_data = data_generator.produce_data(0)\n",
    "print( new_data )"
   ]
  },
  {
   "cell_type": "markdown",
   "metadata": {},
   "source": [
    "To push a column of data into the plot use the method **push_data**. As mentioned above, this is done by using a dictionary."
   ]
  },
  {
   "cell_type": "code",
   "execution_count": 8,
   "metadata": {},
   "outputs": [],
   "source": [
    "# first column\n",
    "new_data = data_generator.produce_data(0)\n",
    "my_plot.push_data( new_data )\n",
    "# second column\n",
    "new_data = data_generator.produce_data(0)\n",
    "my_plot.push_data( new_data )"
   ]
  },
  {
   "cell_type": "code",
   "execution_count": 9,
   "metadata": {},
   "outputs": [
    {
     "name": "stdout",
     "output_type": "stream",
     "text": [
      "Shuffle all lists, this way iterating over\n",
      "them has the same result as random choice.\n",
      "del line humidity\n",
      "humidity_glyph\n",
      "Maximum possible plots are None , n default to None\n",
      "Shuffle all lists, this way iterating over\n",
      "them has the same result as random choice.\n",
      "Shuffle all lists, this way iterating over\n",
      "them has the same result as random choice.\n",
      "del line acceleration\n",
      "acceleration_glyph\n",
      "Maximum possible plots are None , n default to None\n",
      "Shuffle all lists, this way iterating over\n",
      "them has the same result as random choice.\n"
     ]
    }
   ],
   "source": [
    "import time\n",
    "\n",
    "data_generator=df.DataFactory(n=3)\n",
    "\n",
    "dt = 0.01\n",
    "for i in range(200):\n",
    "    my_plot.push_data( data_generator.produce_data(my_plot._x) )\n",
    "    time.sleep(dt)\n",
    "    \n",
    "data_generator=df.DataFactory(n=5)  \n",
    "\n",
    "for i in range(200):\n",
    "    my_plot.push_data( data_generator.produce_data(my_plot._x) )\n",
    "    time.sleep(dt)\n",
    "\n",
    "data_generator=df.DataFactory(n=4)\n",
    "\n",
    "for i in range(200):\n",
    "    my_plot.push_data( data_generator.produce_data(my_plot._x) )\n",
    "    time.sleep(dt)\n",
    "    \n",
    "data_generator=df.DataFactory(n=5)\n",
    "\n",
    "for i in range(200):\n",
    "    my_plot.push_data( data_generator.produce_data(my_plot._x) )\n",
    "    time.sleep(dt)"
   ]
  },
  {
   "cell_type": "markdown",
   "metadata": {},
   "source": [
    "## non-blocking periodic execution\n",
    "\n",
    "To be able to do stuff in a nonblocking manner a function can be called periodically after a period of time. This is very similar to the feature of periodic callbacks in Bokeh. A new thread is created for this purpose. Subsequent cells are not blocked and code can be executed, while the callback might be used to retreive and plot data in a concurrent manner."
   ]
  },
  {
   "cell_type": "code",
   "execution_count": 11,
   "metadata": {},
   "outputs": [],
   "source": [
    "def cb():\n",
    "    my_plot.push_data( data_generator.produce_data(my_plot._x) )\n",
    "\n",
    "my_plot.add_periodic_callback(cb, 10)"
   ]
  },
  {
   "cell_type": "code",
   "execution_count": 12,
   "metadata": {},
   "outputs": [
    {
     "name": "stdout",
     "output_type": "stream",
     "text": [
      "Subsequent cells are not blocked from executing, while plot is still running.\n"
     ]
    }
   ],
   "source": [
    "print(\"Subsequent cells are not blocked from executing, while plot is still running.\")"
   ]
  },
  {
   "cell_type": "markdown",
   "metadata": {},
   "source": [
    "The thread created by **add_periodic_callback** can be deleted any time."
   ]
  },
  {
   "cell_type": "code",
   "execution_count": 13,
   "metadata": {},
   "outputs": [
    {
     "name": "stdout",
     "output_type": "stream",
     "text": [
      "stop thread\n",
      "exit.\n"
     ]
    }
   ],
   "source": [
    "my_plot.remove_periodic_callback()"
   ]
  },
  {
   "cell_type": "markdown",
   "metadata": {},
   "source": [
    "Todo: Create widgets to subscribe data from an MQTT broker."
   ]
  }
 ],
 "metadata": {
  "kernelspec": {
   "display_name": "Python 3",
   "language": "python",
   "name": "python3"
  },
  "language_info": {
   "codemirror_mode": {
    "name": "ipython",
    "version": 3
   },
   "file_extension": ".py",
   "mimetype": "text/x-python",
   "name": "python",
   "nbconvert_exporter": "python",
   "pygments_lexer": "ipython3",
   "version": "3.6.8"
  }
 },
 "nbformat": 4,
 "nbformat_minor": 2
}
